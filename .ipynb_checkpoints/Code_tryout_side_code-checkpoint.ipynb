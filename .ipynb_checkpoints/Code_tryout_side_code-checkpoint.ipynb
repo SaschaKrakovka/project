{
 "cells": [
  {
   "cell_type": "markdown",
   "metadata": {},
   "source": [
    "# Script to try out things and prepare strings needed for the package\n",
    "\n",
    "The code in here will mostly be for myself but is also used to document my progress\n",
    "\n"
   ]
  },
  {
   "cell_type": "code",
   "execution_count": 57,
   "metadata": {},
   "outputs": [
    {
     "name": "stdout",
     "output_type": "stream",
     "text": [
      "A12,B12,C12,D12,E12,F12,G12,H12\n"
     ]
    }
   ],
   "source": [
    "#Preparing of the module\n",
    "\n",
    "#Selecting the letters that represent the rows and preparing them for later use:\n",
    "#This avoids typing all combinations.\n",
    "import string\n",
    "Columns = list(string.ascii_uppercase[0:8])\n",
    "Cells = [s + \"12\" for s in Columns]\n",
    "print(*Cells, sep =',' )"
   ]
  },
  {
   "cell_type": "code",
   "execution_count": 2,
   "metadata": {},
   "outputs": [
    {
     "ename": "NameError",
     "evalue": "name 'Data' is not defined",
     "output_type": "error",
     "traceback": [
      "\u001b[0;31m---------------------------------------------------------------------------\u001b[0m",
      "\u001b[0;31mNameError\u001b[0m                                 Traceback (most recent call last)",
      "\u001b[0;32m<ipython-input-2-90de1c4b71ce>\u001b[0m in \u001b[0;36m<module>\u001b[0;34m\u001b[0m\n\u001b[1;32m      6\u001b[0m \u001b[0;34m\u001b[0m\u001b[0m\n\u001b[1;32m      7\u001b[0m \u001b[0;31m#Here I chose to implement one row at a time to make it more readable\u001b[0m\u001b[0;34m\u001b[0m\u001b[0;34m\u001b[0m\u001b[0;34m\u001b[0m\u001b[0m\n\u001b[0;32m----> 8\u001b[0;31m \u001b[0mA1\u001b[0m\u001b[0;34m,\u001b[0m\u001b[0mB1\u001b[0m\u001b[0;34m,\u001b[0m\u001b[0mC1\u001b[0m\u001b[0;34m,\u001b[0m\u001b[0mD1\u001b[0m\u001b[0;34m,\u001b[0m\u001b[0mE1\u001b[0m\u001b[0;34m,\u001b[0m\u001b[0mF1\u001b[0m\u001b[0;34m,\u001b[0m\u001b[0mG1\u001b[0m\u001b[0;34m,\u001b[0m\u001b[0mH1\u001b[0m \u001b[0;34m=\u001b[0m \u001b[0mData\u001b[0m\u001b[0;34m.\u001b[0m\u001b[0miloc\u001b[0m\u001b[0;34m[\u001b[0m\u001b[0;36m1\u001b[0m\u001b[0;34m:\u001b[0m\u001b[0;36m9\u001b[0m\u001b[0;34m,\u001b[0m\u001b[0;36m1\u001b[0m\u001b[0;34m]\u001b[0m \u001b[0;31m#This corresponds to the first data column\u001b[0m\u001b[0;34m\u001b[0m\u001b[0;34m\u001b[0m\u001b[0m\n\u001b[0m\u001b[1;32m      9\u001b[0m \u001b[0mA2\u001b[0m\u001b[0;34m,\u001b[0m\u001b[0mB2\u001b[0m\u001b[0;34m,\u001b[0m\u001b[0mC2\u001b[0m\u001b[0;34m,\u001b[0m\u001b[0mD2\u001b[0m\u001b[0;34m,\u001b[0m\u001b[0mE2\u001b[0m\u001b[0;34m,\u001b[0m\u001b[0mF2\u001b[0m\u001b[0;34m,\u001b[0m\u001b[0mG2\u001b[0m\u001b[0;34m,\u001b[0m\u001b[0mH2\u001b[0m \u001b[0;34m=\u001b[0m \u001b[0mData\u001b[0m\u001b[0;34m.\u001b[0m\u001b[0miloc\u001b[0m\u001b[0;34m[\u001b[0m\u001b[0;36m1\u001b[0m\u001b[0;34m:\u001b[0m\u001b[0;36m9\u001b[0m\u001b[0;34m,\u001b[0m\u001b[0;36m2\u001b[0m\u001b[0;34m]\u001b[0m\u001b[0;34m\u001b[0m\u001b[0;34m\u001b[0m\u001b[0m\n\u001b[1;32m     10\u001b[0m \u001b[0mA3\u001b[0m\u001b[0;34m,\u001b[0m\u001b[0mB3\u001b[0m\u001b[0;34m,\u001b[0m\u001b[0mC3\u001b[0m\u001b[0;34m,\u001b[0m\u001b[0mD3\u001b[0m\u001b[0;34m,\u001b[0m\u001b[0mE3\u001b[0m\u001b[0;34m,\u001b[0m\u001b[0mF3\u001b[0m\u001b[0;34m,\u001b[0m\u001b[0mG3\u001b[0m\u001b[0;34m,\u001b[0m\u001b[0mH3\u001b[0m \u001b[0;34m=\u001b[0m \u001b[0mData\u001b[0m\u001b[0;34m.\u001b[0m\u001b[0miloc\u001b[0m\u001b[0;34m[\u001b[0m\u001b[0;36m1\u001b[0m\u001b[0;34m:\u001b[0m\u001b[0;36m9\u001b[0m\u001b[0;34m,\u001b[0m\u001b[0;36m3\u001b[0m\u001b[0;34m]\u001b[0m\u001b[0;34m\u001b[0m\u001b[0;34m\u001b[0m\u001b[0m\n",
      "\u001b[0;31mNameError\u001b[0m: name 'Data' is not defined"
     ]
    }
   ],
   "source": [
    "# In this part a 96 well plate is assigned to the common denominers\n",
    "#This will ease naming further down the line.\n",
    "import numpy as np\n",
    "\n",
    "\n",
    "#Here I chose to implement one row at a time to make it more readable\n",
    "A1,B1,C1,D1,E1,F1,G1,H1 = Data.iloc[1:9,1] #This corresponds to the first data column\n",
    "A2,B2,C2,D2,E2,F2,G2,H2 = Data.iloc[1:9,2]\n",
    "A3,B3,C3,D3,E3,F3,G3,H3 = Data.iloc[1:9,3]\n",
    "A4,B4,C4,D4,E4,F4,G4,H4 = Data.iloc[1:9,4]\n",
    "A5,B5,C5,D5,E5,F5,G5,H5 = Data.iloc[1:9,5]\n",
    "A6,B6,C6,D6,E6,F6,G6,H6 = Data.iloc[1:9,6]\n",
    "A7,B7,C7,D7,E7,F7,G7,H7 = Data.iloc[1:9,7]\n",
    "A8,B8,C8,D8,E8,F8,G8,H8 = Data.iloc[1:9,8]\n",
    "A9,B9,C9,D9,E9,F9,G9,H9 = Data.iloc[1:9,9]\n",
    "A10,B10,C10,D10,E10,F10,G10,H10 = Data.iloc[1:9,10]\n",
    "A11,B11,C11,D11,E11,F11,G11,H11 = Data.iloc[1:9,11]\n",
    "A12,B12,C12,D12,E12,F12,G12,H12 = Data.iloc[1:9,12]\n"
   ]
  },
  {
   "cell_type": "code",
   "execution_count": 5,
   "metadata": {},
   "outputs": [],
   "source": [
    "#Update: Found out that pandas can probably make my life easier. Will change my dataframes column and row names.\n",
    "#Here are the next steps for that\n",
    "#Let us see if this actually brings me somewhere.\n",
    "\n",
    "\n",
    "\n",
    "Df = Data.iloc[1:9,:]\n",
    "#[\"0\",\"1\",\"2\",\"3\",\"4\",\"5\",\"6\",\"7\",\"8\",\"9\",\"10\",\"11\",\"12\"]\n",
    "\n",
    "Df.columns = [\"0\",'1',\"2\",\"3\",\"4\",\"5\",\"6\",\"7\",\"8\",\"9\",\"10\",\"11\",\"12\"]\n",
    "Df_i = Df.set_index(Df.loc[:,\"0\"], drop = False)\n",
    "Df_i = Df_i.iloc[:,1:13]\n",
    "\n",
    "Df_i"
   ]
  },
  {
   "cell_type": "code",
   "execution_count": 1,
   "metadata": {},
   "outputs": [
    {
     "ename": "SyntaxError",
     "evalue": "invalid syntax (Plate_setup2.py, line 18)",
     "output_type": "error",
     "traceback": [
      "Traceback \u001b[0;36m(most recent call last)\u001b[0m:\n",
      "  File \u001b[1;32m\"/usr/local/lib/python3.7/site-packages/IPython/core/interactiveshell.py\"\u001b[0m, line \u001b[1;32m3331\u001b[0m, in \u001b[1;35mrun_code\u001b[0m\n    exec(code_obj, self.user_global_ns, self.user_ns)\n",
      "\u001b[0;36m  File \u001b[0;32m\"<ipython-input-1-b451b343e75b>\"\u001b[0;36m, line \u001b[0;32m3\u001b[0;36m, in \u001b[0;35m<module>\u001b[0;36m\u001b[0m\n\u001b[0;31m    import Plate_setup2\u001b[0m\n",
      "\u001b[0;36m  File \u001b[0;32m\"/Users/saskr638/PHD/Kurse/Advanced Python/project/Plate_setup2.py\"\u001b[0;36m, line \u001b[0;32m18\u001b[0m\n\u001b[0;31m    return A1,A2 = Data.iloc[0:2,0]\u001b[0m\n\u001b[0m                 ^\u001b[0m\n\u001b[0;31mSyntaxError\u001b[0m\u001b[0;31m:\u001b[0m invalid syntax\n"
     ]
    }
   ],
   "source": [
    "import numpy as np\n",
    "import pandas as pd\n",
    "import Plate_setup2\n",
    "Data = pd.DataFrame(np.arange(1,97).reshape(8,12))\n",
    "createFrame(Data)\n",
    "#\n"
   ]
  },
  {
   "cell_type": "code",
   "execution_count": 3,
   "metadata": {},
   "outputs": [
    {
     "data": {
      "image/png": "[encoded data removed]",
      "text/plain": [
       "<Figure size 432x230.4 with 3 Axes>"
      ]
     },
     "metadata": {
      "needs_background": "light"
     },
     "output_type": "display_data"
    }
   ],
   "source": [
    "import numpy as np\n",
    "import matplotlib.pyplot as plt\n",
    "\n",
    "H = np.array([[1, 2, 3, 4],\n",
    "              [5, 6, 7, 8],\n",
    "              [9, 10, 11, 12],\n",
    "              [13, 14, 15, 16]])  # added some commas and array creation code\n",
    "\n",
    "fig = plt.figure(figsize=(6, 3.2))\n",
    "\n",
    "ax = fig.add_subplot(111)\n",
    "ax.set_title('colorMap')\n",
    "plt.imshow(H)\n",
    "ax.set_aspect('equal')\n",
    "\n",
    "cax = fig.add_axes([0.12, 0.1, 0.78, 0.8])\n",
    "cax.get_xaxis().set_visible(False)\n",
    "cax.get_yaxis().set_visible(False)\n",
    "cax.patch.set_alpha(0)\n",
    "cax.set_frame_on(False)\n",
    "plt.colorbar(orientation='vertical')\n",
    "plt.show()"
   ]
  },
  {
   "cell_type": "code",
   "execution_count": 5,
   "metadata": {},
   "outputs": [
    {
     "ename": "NameError",
     "evalue": "name 'A1' is not defined",
     "output_type": "error",
     "traceback": [
      "\u001b[0;31m---------------------------------------------------------------------------\u001b[0m",
      "\u001b[0;31mNameError\u001b[0m                                 Traceback (most recent call last)",
      "\u001b[0;32m<ipython-input-5-4a5b95edbea7>\u001b[0m in \u001b[0;36m<module>\u001b[0;34m\u001b[0m\n\u001b[0;32m----> 1\u001b[0;31m \u001b[0mA1\u001b[0m\u001b[0;34m\u001b[0m\u001b[0;34m\u001b[0m\u001b[0m\n\u001b[0m",
      "\u001b[0;31mNameError\u001b[0m: name 'A1' is not defined"
     ]
    }
   ],
   "source": []
  },
  {
   "cell_type": "code",
   "execution_count": null,
   "metadata": {},
   "outputs": [],
   "source": []
  }
 ],
 "metadata": {
  "kernelspec": {
   "display_name": "Python 3",
   "language": "python",
   "name": "python3"
  },
  "language_info": {
   "codemirror_mode": {
    "name": "ipython",
    "version": 3
   },
   "file_extension": ".py",
   "mimetype": "text/x-python",
   "name": "python",
   "nbconvert_exporter": "python",
   "pygments_lexer": "ipython3",
   "version": "3.7.7"
  }
 },
 "nbformat": 4,
 "nbformat_minor": 4
}
