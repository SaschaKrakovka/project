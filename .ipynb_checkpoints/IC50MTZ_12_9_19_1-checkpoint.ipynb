{
 "cells": [
  {
   "cell_type": "markdown",
   "metadata": {},
   "source": [
    "# Script to calculate the IC50 for metronidazole tested on WB, C6NR, C6aI and C60.5 on 12_9_19, first plate"
   ]
  },
  {
   "cell_type": "code",
   "execution_count": 1,
   "metadata": {},
   "outputs": [],
   "source": [
    "#Import all needed modules\n",
    "import pandas as pd\n",
    "import numpy as np\n"
   ]
  },
  {
   "cell_type": "code",
   "execution_count": 2,
   "metadata": {},
   "outputs": [
    {
     "data": {
      "text/html": [
       "<div>\n",
       "<style scoped>\n",
       "    .dataframe tbody tr th:only-of-type {\n",
       "        vertical-align: middle;\n",
       "    }\n",
       "\n",
       "    .dataframe tbody tr th {\n",
       "        vertical-align: top;\n",
       "    }\n",
       "\n",
       "    .dataframe thead th {\n",
       "        text-align: right;\n",
       "    }\n",
       "</style>\n",
       "<table border=\"1\" class=\"dataframe\">\n",
       "  <thead>\n",
       "    <tr style=\"text-align: right;\">\n",
       "      <th></th>\n",
       "      <th>Application: Tecan i-control</th>\n",
       "      <th>Unnamed: 1</th>\n",
       "      <th>Unnamed: 2</th>\n",
       "      <th>Unnamed: 3</th>\n",
       "      <th>Tecan i-control , 1.10.4.0</th>\n",
       "      <th>Unnamed: 5</th>\n",
       "      <th>Unnamed: 6</th>\n",
       "      <th>Unnamed: 7</th>\n",
       "      <th>Unnamed: 8</th>\n",
       "      <th>Unnamed: 9</th>\n",
       "      <th>Unnamed: 10</th>\n",
       "      <th>Unnamed: 11</th>\n",
       "      <th>Unnamed: 12</th>\n",
       "    </tr>\n",
       "  </thead>\n",
       "  <tbody>\n",
       "    <tr>\n",
       "      <th>28</th>\n",
       "      <td>&lt;&gt;</td>\n",
       "      <td>1</td>\n",
       "      <td>2.0</td>\n",
       "      <td>3.0</td>\n",
       "      <td>4</td>\n",
       "      <td>5</td>\n",
       "      <td>6.0</td>\n",
       "      <td>7.0</td>\n",
       "      <td>8</td>\n",
       "      <td>9.0</td>\n",
       "      <td>10.0</td>\n",
       "      <td>11.0</td>\n",
       "      <td>12.0</td>\n",
       "    </tr>\n",
       "    <tr>\n",
       "      <th>29</th>\n",
       "      <td>A</td>\n",
       "      <td>NaN</td>\n",
       "      <td>NaN</td>\n",
       "      <td>NaN</td>\n",
       "      <td>NaN</td>\n",
       "      <td>NaN</td>\n",
       "      <td>NaN</td>\n",
       "      <td>NaN</td>\n",
       "      <td>NaN</td>\n",
       "      <td>NaN</td>\n",
       "      <td>NaN</td>\n",
       "      <td>NaN</td>\n",
       "      <td>NaN</td>\n",
       "    </tr>\n",
       "    <tr>\n",
       "      <th>30</th>\n",
       "      <td>B</td>\n",
       "      <td>NaN</td>\n",
       "      <td>24323.0</td>\n",
       "      <td>1034.0</td>\n",
       "      <td>21896</td>\n",
       "      <td>18077</td>\n",
       "      <td>15495.0</td>\n",
       "      <td>36462.0</td>\n",
       "      <td>22864</td>\n",
       "      <td>15788.0</td>\n",
       "      <td>2207.0</td>\n",
       "      <td>2607.0</td>\n",
       "      <td>NaN</td>\n",
       "    </tr>\n",
       "    <tr>\n",
       "      <th>31</th>\n",
       "      <td>C</td>\n",
       "      <td>NaN</td>\n",
       "      <td>26089.0</td>\n",
       "      <td>29118.0</td>\n",
       "      <td>1171</td>\n",
       "      <td>17488</td>\n",
       "      <td>26767.0</td>\n",
       "      <td>20000.0</td>\n",
       "      <td>23824</td>\n",
       "      <td>18205.0</td>\n",
       "      <td>20951.0</td>\n",
       "      <td>7431.0</td>\n",
       "      <td>NaN</td>\n",
       "    </tr>\n",
       "    <tr>\n",
       "      <th>32</th>\n",
       "      <td>D</td>\n",
       "      <td>NaN</td>\n",
       "      <td>27013.0</td>\n",
       "      <td>31148.0</td>\n",
       "      <td>21497</td>\n",
       "      <td>1173</td>\n",
       "      <td>5527.0</td>\n",
       "      <td>48527.0</td>\n",
       "      <td>22263</td>\n",
       "      <td>14672.0</td>\n",
       "      <td>31742.0</td>\n",
       "      <td>38765.0</td>\n",
       "      <td>NaN</td>\n",
       "    </tr>\n",
       "    <tr>\n",
       "      <th>33</th>\n",
       "      <td>E</td>\n",
       "      <td>NaN</td>\n",
       "      <td>26837.0</td>\n",
       "      <td>38747.0</td>\n",
       "      <td>24171</td>\n",
       "      <td>18179</td>\n",
       "      <td>1194.0</td>\n",
       "      <td>38811.0</td>\n",
       "      <td>28983</td>\n",
       "      <td>16780.0</td>\n",
       "      <td>33915.0</td>\n",
       "      <td>23008.0</td>\n",
       "      <td>NaN</td>\n",
       "    </tr>\n",
       "    <tr>\n",
       "      <th>34</th>\n",
       "      <td>F</td>\n",
       "      <td>NaN</td>\n",
       "      <td>28554.0</td>\n",
       "      <td>36075.0</td>\n",
       "      <td>26308</td>\n",
       "      <td>17159</td>\n",
       "      <td>21708.0</td>\n",
       "      <td>8147.0</td>\n",
       "      <td>29529</td>\n",
       "      <td>11159.0</td>\n",
       "      <td>1469.0</td>\n",
       "      <td>1632.0</td>\n",
       "      <td>NaN</td>\n",
       "    </tr>\n",
       "    <tr>\n",
       "      <th>35</th>\n",
       "      <td>G</td>\n",
       "      <td>NaN</td>\n",
       "      <td>27080.0</td>\n",
       "      <td>35688.0</td>\n",
       "      <td>23795</td>\n",
       "      <td>20779</td>\n",
       "      <td>28911.0</td>\n",
       "      <td>37884.0</td>\n",
       "      <td>30589</td>\n",
       "      <td>20432.0</td>\n",
       "      <td>8693.0</td>\n",
       "      <td>3219.0</td>\n",
       "      <td>NaN</td>\n",
       "    </tr>\n",
       "    <tr>\n",
       "      <th>36</th>\n",
       "      <td>H</td>\n",
       "      <td>NaN</td>\n",
       "      <td>NaN</td>\n",
       "      <td>NaN</td>\n",
       "      <td>NaN</td>\n",
       "      <td>NaN</td>\n",
       "      <td>NaN</td>\n",
       "      <td>NaN</td>\n",
       "      <td>NaN</td>\n",
       "      <td>NaN</td>\n",
       "      <td>NaN</td>\n",
       "      <td>NaN</td>\n",
       "      <td>NaN</td>\n",
       "    </tr>\n",
       "  </tbody>\n",
       "</table>\n",
       "</div>"
      ],
      "text/plain": [
       "   Application: Tecan i-control Unnamed: 1  Unnamed: 2  Unnamed: 3  \\\n",
       "28                           <>          1         2.0         3.0   \n",
       "29                            A        NaN         NaN         NaN   \n",
       "30                            B        NaN     24323.0      1034.0   \n",
       "31                            C        NaN     26089.0     29118.0   \n",
       "32                            D        NaN     27013.0     31148.0   \n",
       "33                            E        NaN     26837.0     38747.0   \n",
       "34                            F        NaN     28554.0     36075.0   \n",
       "35                            G        NaN     27080.0     35688.0   \n",
       "36                            H        NaN         NaN         NaN   \n",
       "\n",
       "   Tecan i-control , 1.10.4.0 Unnamed: 5  Unnamed: 6  Unnamed: 7 Unnamed: 8  \\\n",
       "28                          4          5         6.0         7.0          8   \n",
       "29                        NaN        NaN         NaN         NaN        NaN   \n",
       "30                      21896      18077     15495.0     36462.0      22864   \n",
       "31                       1171      17488     26767.0     20000.0      23824   \n",
       "32                      21497       1173      5527.0     48527.0      22263   \n",
       "33                      24171      18179      1194.0     38811.0      28983   \n",
       "34                      26308      17159     21708.0      8147.0      29529   \n",
       "35                      23795      20779     28911.0     37884.0      30589   \n",
       "36                        NaN        NaN         NaN         NaN        NaN   \n",
       "\n",
       "    Unnamed: 9  Unnamed: 10  Unnamed: 11  Unnamed: 12  \n",
       "28         9.0         10.0         11.0         12.0  \n",
       "29         NaN          NaN          NaN          NaN  \n",
       "30     15788.0       2207.0       2607.0          NaN  \n",
       "31     18205.0      20951.0       7431.0          NaN  \n",
       "32     14672.0      31742.0      38765.0          NaN  \n",
       "33     16780.0      33915.0      23008.0          NaN  \n",
       "34     11159.0       1469.0       1632.0          NaN  \n",
       "35     20432.0       8693.0       3219.0          NaN  \n",
       "36         NaN          NaN          NaN          NaN  "
      ]
     },
     "execution_count": 2,
     "metadata": {},
     "output_type": "execute_result"
    }
   ],
   "source": [
    "#Read in data from excel file\n",
    "WD = pd.read_excel(\"EC50MTZ_12_9_19_1.xlsx\")\n",
    "Data = WD[28:37]\n",
    "Data"
   ]
  },
  {
   "cell_type": "code",
   "execution_count": 3,
   "metadata": {},
   "outputs": [],
   "source": [
    "#Before I can define the names I need to distract the background signal from the solutions used\n",
    "\n",
    "Background = (Data.iloc[2,3]+Data.iloc[3,4]+Data.iloc[4,5]+Data.iloc[5,6])/4"
   ]
  },
  {
   "cell_type": "code",
   "execution_count": 4,
   "metadata": {},
   "outputs": [
    {
     "data": {
      "text/html": [
       "<div>\n",
       "<style scoped>\n",
       "    .dataframe tbody tr th:only-of-type {\n",
       "        vertical-align: middle;\n",
       "    }\n",
       "\n",
       "    .dataframe tbody tr th {\n",
       "        vertical-align: top;\n",
       "    }\n",
       "\n",
       "    .dataframe thead th {\n",
       "        text-align: right;\n",
       "    }\n",
       "</style>\n",
       "<table border=\"1\" class=\"dataframe\">\n",
       "  <thead>\n",
       "    <tr style=\"text-align: right;\">\n",
       "      <th></th>\n",
       "      <th>Unnamed: 1</th>\n",
       "      <th>Unnamed: 2</th>\n",
       "      <th>Unnamed: 3</th>\n",
       "      <th>Tecan i-control , 1.10.4.0</th>\n",
       "      <th>Unnamed: 5</th>\n",
       "      <th>Unnamed: 6</th>\n",
       "      <th>Unnamed: 7</th>\n",
       "      <th>Unnamed: 8</th>\n",
       "      <th>Unnamed: 9</th>\n",
       "      <th>Unnamed: 10</th>\n",
       "      <th>Unnamed: 11</th>\n",
       "      <th>Unnamed: 12</th>\n",
       "    </tr>\n",
       "  </thead>\n",
       "  <tbody>\n",
       "    <tr>\n",
       "      <th>29</th>\n",
       "      <td>NaN</td>\n",
       "      <td>NaN</td>\n",
       "      <td>NaN</td>\n",
       "      <td>NaN</td>\n",
       "      <td>NaN</td>\n",
       "      <td>NaN</td>\n",
       "      <td>NaN</td>\n",
       "      <td>NaN</td>\n",
       "      <td>NaN</td>\n",
       "      <td>NaN</td>\n",
       "      <td>NaN</td>\n",
       "      <td>NaN</td>\n",
       "    </tr>\n",
       "    <tr>\n",
       "      <th>30</th>\n",
       "      <td>NaN</td>\n",
       "      <td>23180.0</td>\n",
       "      <td>-109.0</td>\n",
       "      <td>20753</td>\n",
       "      <td>16934</td>\n",
       "      <td>14352.0</td>\n",
       "      <td>35319.0</td>\n",
       "      <td>21721</td>\n",
       "      <td>14645.0</td>\n",
       "      <td>1064.0</td>\n",
       "      <td>1464.0</td>\n",
       "      <td>NaN</td>\n",
       "    </tr>\n",
       "    <tr>\n",
       "      <th>31</th>\n",
       "      <td>NaN</td>\n",
       "      <td>24946.0</td>\n",
       "      <td>27975.0</td>\n",
       "      <td>28</td>\n",
       "      <td>16345</td>\n",
       "      <td>25624.0</td>\n",
       "      <td>18857.0</td>\n",
       "      <td>22681</td>\n",
       "      <td>17062.0</td>\n",
       "      <td>19808.0</td>\n",
       "      <td>6288.0</td>\n",
       "      <td>NaN</td>\n",
       "    </tr>\n",
       "    <tr>\n",
       "      <th>32</th>\n",
       "      <td>NaN</td>\n",
       "      <td>25870.0</td>\n",
       "      <td>30005.0</td>\n",
       "      <td>20354</td>\n",
       "      <td>30</td>\n",
       "      <td>4384.0</td>\n",
       "      <td>47384.0</td>\n",
       "      <td>21120</td>\n",
       "      <td>13529.0</td>\n",
       "      <td>30599.0</td>\n",
       "      <td>37622.0</td>\n",
       "      <td>NaN</td>\n",
       "    </tr>\n",
       "    <tr>\n",
       "      <th>33</th>\n",
       "      <td>NaN</td>\n",
       "      <td>25694.0</td>\n",
       "      <td>37604.0</td>\n",
       "      <td>23028</td>\n",
       "      <td>17036</td>\n",
       "      <td>51.0</td>\n",
       "      <td>37668.0</td>\n",
       "      <td>27840</td>\n",
       "      <td>15637.0</td>\n",
       "      <td>32772.0</td>\n",
       "      <td>21865.0</td>\n",
       "      <td>NaN</td>\n",
       "    </tr>\n",
       "    <tr>\n",
       "      <th>34</th>\n",
       "      <td>NaN</td>\n",
       "      <td>27411.0</td>\n",
       "      <td>34932.0</td>\n",
       "      <td>25165</td>\n",
       "      <td>16016</td>\n",
       "      <td>20565.0</td>\n",
       "      <td>7004.0</td>\n",
       "      <td>28386</td>\n",
       "      <td>10016.0</td>\n",
       "      <td>326.0</td>\n",
       "      <td>489.0</td>\n",
       "      <td>NaN</td>\n",
       "    </tr>\n",
       "    <tr>\n",
       "      <th>35</th>\n",
       "      <td>NaN</td>\n",
       "      <td>25937.0</td>\n",
       "      <td>34545.0</td>\n",
       "      <td>22652</td>\n",
       "      <td>19636</td>\n",
       "      <td>27768.0</td>\n",
       "      <td>36741.0</td>\n",
       "      <td>29446</td>\n",
       "      <td>19289.0</td>\n",
       "      <td>7550.0</td>\n",
       "      <td>2076.0</td>\n",
       "      <td>NaN</td>\n",
       "    </tr>\n",
       "    <tr>\n",
       "      <th>36</th>\n",
       "      <td>NaN</td>\n",
       "      <td>NaN</td>\n",
       "      <td>NaN</td>\n",
       "      <td>NaN</td>\n",
       "      <td>NaN</td>\n",
       "      <td>NaN</td>\n",
       "      <td>NaN</td>\n",
       "      <td>NaN</td>\n",
       "      <td>NaN</td>\n",
       "      <td>NaN</td>\n",
       "      <td>NaN</td>\n",
       "      <td>NaN</td>\n",
       "    </tr>\n",
       "  </tbody>\n",
       "</table>\n",
       "</div>"
      ],
      "text/plain": [
       "   Unnamed: 1  Unnamed: 2  Unnamed: 3 Tecan i-control , 1.10.4.0 Unnamed: 5  \\\n",
       "29        NaN         NaN         NaN                        NaN        NaN   \n",
       "30        NaN     23180.0      -109.0                      20753      16934   \n",
       "31        NaN     24946.0     27975.0                         28      16345   \n",
       "32        NaN     25870.0     30005.0                      20354         30   \n",
       "33        NaN     25694.0     37604.0                      23028      17036   \n",
       "34        NaN     27411.0     34932.0                      25165      16016   \n",
       "35        NaN     25937.0     34545.0                      22652      19636   \n",
       "36        NaN         NaN         NaN                        NaN        NaN   \n",
       "\n",
       "    Unnamed: 6  Unnamed: 7 Unnamed: 8  Unnamed: 9  Unnamed: 10  Unnamed: 11  \\\n",
       "29         NaN         NaN        NaN         NaN          NaN          NaN   \n",
       "30     14352.0     35319.0      21721     14645.0       1064.0       1464.0   \n",
       "31     25624.0     18857.0      22681     17062.0      19808.0       6288.0   \n",
       "32      4384.0     47384.0      21120     13529.0      30599.0      37622.0   \n",
       "33        51.0     37668.0      27840     15637.0      32772.0      21865.0   \n",
       "34     20565.0      7004.0      28386     10016.0        326.0        489.0   \n",
       "35     27768.0     36741.0      29446     19289.0       7550.0       2076.0   \n",
       "36         NaN         NaN        NaN         NaN          NaN          NaN   \n",
       "\n",
       "    Unnamed: 12  \n",
       "29          NaN  \n",
       "30          NaN  \n",
       "31          NaN  \n",
       "32          NaN  \n",
       "33          NaN  \n",
       "34          NaN  \n",
       "35          NaN  \n",
       "36          NaN  "
      ]
     },
     "execution_count": 4,
     "metadata": {},
     "output_type": "execute_result"
    }
   ],
   "source": [
    "#That Background signal is distracted from all cells.\n",
    "Data_nB = Data.iloc[1:9,1:13]\n",
    "Data_nB -= Background\n",
    "Data_nB"
   ]
  },
  {
   "cell_type": "code",
   "execution_count": 5,
   "metadata": {},
   "outputs": [],
   "source": [
    "#This code does the first step; assigning the letter and number combinations to their identifiers on the plate\n",
    "\n",
    "#Having some problem to move it to a module because it than only is assigned locally.\n",
    "#I will leave this for now and accept it as is. This is definetely clearer for the user and this step\n",
    "#will always be the same.\n",
    "\n",
    "A1,B1,C1,D1,E1,F1,G1,H1 = Data_nB.iloc[0:8,0]   #This corresponds to the first Data_nB column\n",
    "A2,B2,C2,D2,E2,F2,G2,H2 = Data_nB.iloc[0:8,1]   #This corresponds to the second Data_nB column\n",
    "A3,B3,C3,D3,E3,F3,G3,H3 = Data_nB.iloc[0:8,2]   #etc\n",
    "A4,B4,C4,D4,E4,F4,G4,H4 = Data_nB.iloc[0:8,3]  \n",
    "A5,B5,C5,D5,E5,F5,G5,H5 = Data_nB.iloc[0:8,4]\n",
    "A6,B6,C6,D6,E6,F6,G6,H6 = Data_nB.iloc[0:8,5]\n",
    "A7,B7,C7,D7,E7,F7,G7,H7 = Data_nB.iloc[0:8,6]\n",
    "A8,B8,C8,D8,E8,F8,G8,H8 = Data_nB.iloc[0:8,7]\n",
    "A9,B9,C9,D9,E9,F9,G9,H9 = Data_nB.iloc[0:8,8]\n",
    "A10,B10,C10,D10,E10,F10,G10,H10 = Data_nB.iloc[0:8,9]\n",
    "A11,B11,C11,D11,E11,F11,G11,H11 = Data_nB.iloc[0:8,10]\n",
    "A12,B12,C12,D12,E12,F12,G12,H12 = Data_nB.iloc[0:8,11]"
   ]
  },
  {
   "cell_type": "code",
   "execution_count": 6,
   "metadata": {},
   "outputs": [
    {
     "data": {
      "text/plain": [
       "21872.5"
      ]
     },
     "execution_count": 6,
     "metadata": {},
     "output_type": "execute_result"
    }
   ],
   "source": [
    "#Survival rates for strain one at all concentrations. Always take the field with drug (+-field in template)\n",
    "#and divide by the mock field. Than make a list of them, the first element serves as 1 (=100%).\n",
    "#The Strain0 value serve as a starting point to see whether any values are higher -> pippeting error\n",
    "#Come back to these values to doublecheck for calculations of >100% in the table below.\n",
    "#The number given in the name is the concentration in µM.\n",
    "WB0 = (B2+F6)/2\n",
    "WB1 = D2/C2\n",
    "WB2 = F2/E2\n",
    "WB5 = B6/G2\n",
    "WB10 = D6/C6\n",
    "WB20 = B10/G6\n",
    "WB50 = F10/D10\n",
    "WB = [1, WB1, WB2, WB5, WB10, WB20, WB50]\n",
    "WB0"
   ]
  },
  {
   "cell_type": "code",
   "execution_count": 7,
   "metadata": {},
   "outputs": [
    {
     "data": {
      "text/plain": [
       "37679.5"
      ]
     },
     "execution_count": 7,
     "metadata": {},
     "output_type": "execute_result"
    }
   ],
   "source": [
    "#Strain 2\n",
    "C6NR0 = (C3+D7)/2\n",
    "C6NR1 = E3/D3\n",
    "C6NR2 = G3/F3\n",
    "C6NR5 = C7/B7\n",
    "C6NR10 = F7/E7\n",
    "C6NR20 = B11/G7\n",
    "C6NR50 = F11/D11\n",
    "C6NR = [1, C6NR1, C6NR2, C6NR5, C6NR10, C6NR20, C6NR50]\n",
    "C6NR0"
   ]
  },
  {
   "cell_type": "code",
   "execution_count": 8,
   "metadata": {},
   "outputs": [
    {
     "data": {
      "text/plain": [
       "20936.5"
      ]
     },
     "execution_count": 8,
     "metadata": {},
     "output_type": "execute_result"
    }
   ],
   "source": [
    "#Strain 3\n",
    "C6050 = (B4+D8)/2\n",
    "C6051 = E4/D4\n",
    "C6052 = G4/F4\n",
    "C6055 = C8/B8\n",
    "C60510 = F8/E8\n",
    "C60520 = C10/G8\n",
    "C60550 = G10/E10\n",
    "C605 = [1, C6051, C6052, C6055, C60510, C60520, C60550]\n",
    "C6050"
   ]
  },
  {
   "cell_type": "code",
   "execution_count": 9,
   "metadata": {},
   "outputs": [
    {
     "data": {
      "text/plain": [
       "15231.5"
      ]
     },
     "execution_count": 9,
     "metadata": {},
     "output_type": "execute_result"
    }
   ],
   "source": [
    "#Strain 4\n",
    "C6aI0 = (B5+D9)/2\n",
    "C6aI1 = E5/C5\n",
    "C6aI2 = G5/F5\n",
    "C6aI5 = C9/B9\n",
    "C6aI10 = F9/E9\n",
    "C6aI20 = C11/G9\n",
    "C6aI50 = G11/E11\n",
    "C6aI = [1, C6aI1, C6aI2, C6aI5, C6aI10, C6aI20, C6aI50]\n",
    "C6aI0"
   ]
  },
  {
   "cell_type": "code",
   "execution_count": 10,
   "metadata": {},
   "outputs": [],
   "source": [
    "# Make a list of concentrations to be included for plotting. All divided by 100 to not run into problems in next step.\n",
    "Conc = [1e-22, 0.01, 0.02, 0.05, 0.10, 0.20, 0.50]"
   ]
  },
  {
   "cell_type": "code",
   "execution_count": 11,
   "metadata": {},
   "outputs": [
    {
     "name": "stdout",
     "output_type": "stream",
     "text": [
      "           Conc          WB        C6NR        C605        C6aI\n",
      "0  1.000000e-20  100.000000  100.000000  100.000000  100.000000\n",
      "1  1.000000e+00  103.704001  125.325779  113.137467  104.227593\n",
      "2  2.000000e+00  106.682494   98.892133   90.013908  122.602398\n",
      "3  5.000000e+00   55.334079   53.390526  104.419686  116.503926\n",
      "4  1.000000e+01   17.108960   18.594032  101.961207   64.053207\n",
      "5  2.000000e+01    3.831749    3.984649   67.268899   32.598891\n",
      "6  5.000000e+01    1.065394    1.299771   23.037959    9.494626\n"
     ]
    },
    {
     "name": "stderr",
     "output_type": "stream",
     "text": [
      "/usr/local/lib/python3.7/site-packages/ipykernel_launcher.py:13: UserWarning: Warning: Values above 100% are set to 100%!\n",
      "  del sys.path[0]\n"
     ]
    },
    {
     "data": {
      "text/html": [
       "<div>\n",
       "<style scoped>\n",
       "    .dataframe tbody tr th:only-of-type {\n",
       "        vertical-align: middle;\n",
       "    }\n",
       "\n",
       "    .dataframe tbody tr th {\n",
       "        vertical-align: top;\n",
       "    }\n",
       "\n",
       "    .dataframe thead th {\n",
       "        text-align: right;\n",
       "    }\n",
       "</style>\n",
       "<table border=\"1\" class=\"dataframe\">\n",
       "  <thead>\n",
       "    <tr style=\"text-align: right;\">\n",
       "      <th></th>\n",
       "      <th>Conc</th>\n",
       "      <th>WB</th>\n",
       "      <th>C6NR</th>\n",
       "      <th>C605</th>\n",
       "      <th>C6aI</th>\n",
       "    </tr>\n",
       "  </thead>\n",
       "  <tbody>\n",
       "    <tr>\n",
       "      <th>0</th>\n",
       "      <td>1.000000e-20</td>\n",
       "      <td>100.000000</td>\n",
       "      <td>100.000000</td>\n",
       "      <td>100.000000</td>\n",
       "      <td>100.000000</td>\n",
       "    </tr>\n",
       "    <tr>\n",
       "      <th>1</th>\n",
       "      <td>1.000000e+00</td>\n",
       "      <td>100.000000</td>\n",
       "      <td>100.000000</td>\n",
       "      <td>100.000000</td>\n",
       "      <td>100.000000</td>\n",
       "    </tr>\n",
       "    <tr>\n",
       "      <th>2</th>\n",
       "      <td>2.000000e+00</td>\n",
       "      <td>100.000000</td>\n",
       "      <td>98.892133</td>\n",
       "      <td>90.013908</td>\n",
       "      <td>100.000000</td>\n",
       "    </tr>\n",
       "    <tr>\n",
       "      <th>3</th>\n",
       "      <td>5.000000e+00</td>\n",
       "      <td>55.334079</td>\n",
       "      <td>53.390526</td>\n",
       "      <td>100.000000</td>\n",
       "      <td>100.000000</td>\n",
       "    </tr>\n",
       "    <tr>\n",
       "      <th>4</th>\n",
       "      <td>1.000000e+01</td>\n",
       "      <td>17.108960</td>\n",
       "      <td>18.594032</td>\n",
       "      <td>100.000000</td>\n",
       "      <td>64.053207</td>\n",
       "    </tr>\n",
       "    <tr>\n",
       "      <th>5</th>\n",
       "      <td>2.000000e+01</td>\n",
       "      <td>3.831749</td>\n",
       "      <td>3.984649</td>\n",
       "      <td>67.268899</td>\n",
       "      <td>32.598891</td>\n",
       "    </tr>\n",
       "    <tr>\n",
       "      <th>6</th>\n",
       "      <td>5.000000e+01</td>\n",
       "      <td>1.065394</td>\n",
       "      <td>1.299771</td>\n",
       "      <td>23.037959</td>\n",
       "      <td>9.494626</td>\n",
       "    </tr>\n",
       "  </tbody>\n",
       "</table>\n",
       "</div>"
      ],
      "text/plain": [
       "           Conc          WB        C6NR        C605        C6aI\n",
       "0  1.000000e-20  100.000000  100.000000  100.000000  100.000000\n",
       "1  1.000000e+00  100.000000  100.000000  100.000000  100.000000\n",
       "2  2.000000e+00  100.000000   98.892133   90.013908  100.000000\n",
       "3  5.000000e+00   55.334079   53.390526  100.000000  100.000000\n",
       "4  1.000000e+01   17.108960   18.594032  100.000000   64.053207\n",
       "5  2.000000e+01    3.831749    3.984649   67.268899   32.598891\n",
       "6  5.000000e+01    1.065394    1.299771   23.037959    9.494626"
      ]
     },
     "execution_count": 11,
     "metadata": {},
     "output_type": "execute_result"
    }
   ],
   "source": [
    "# Now lets make this into an array. Than transpose it and multiply by 100 to achieve procent.\n",
    "MTZ_1 = pd.DataFrame([Conc, WB, C6NR, C605, C6aI] )\n",
    "MTZ_1 = MTZ_1.T*100\n",
    "\n",
    "#Set column names\n",
    "MTZ_1.columns = ['Conc', 'WB', 'C6NR', 'C605', 'C6aI']\n",
    "print(MTZ_1)\n",
    "\n",
    "#Warning that below wells are adjusted in which the cells grew slower om just DMSO than with drug. \n",
    "#Those are assumed to be 100% since the drug had no clear influence here. \n",
    "#Make sure to double check the values comparing the first and second table\n",
    "import warnings\n",
    "warnings.warn(\"Warning: Values above 100% are set to 100%!\")\n",
    "\n",
    "\n",
    "# Adjusting for wells in which the mock grew slower than the cells with drug. \n",
    "a = MTZ_1[:]>100\n",
    "MTZ_1[a] = 100\n",
    "MTZ_1"
   ]
  },
  {
   "cell_type": "code",
   "execution_count": 12,
   "metadata": {},
   "outputs": [
    {
     "data": {
      "text/plain": [
       "<function matplotlib.pyplot.show(*args, **kw)>"
      ]
     },
     "execution_count": 12,
     "metadata": {},
     "output_type": "execute_result"
    },
    {
     "data": {
      "image/png": "[encoded data removed]",
      "text/plain": [
       "<Figure size 432x288 with 1 Axes>"
      ]
     },
     "metadata": {
      "needs_background": "light"
     },
     "output_type": "display_data"
    }
   ],
   "source": [
    "#A simple fast plot to check if the curve is looking funny\n",
    "import matplotlib.pyplot as plt\n",
    "\n",
    "x = np.array(MTZ_1[\"Conc\"])\n",
    "y = np.array(MTZ_1[\"WB\"])\n",
    "a = np.array(MTZ_1[\"C6NR\"])\n",
    "b = np.array(MTZ_1[\"C605\"])\n",
    "c = np.array(MTZ_1[\"C6aI\"])\n",
    "\n",
    "\n",
    "plt.plot(x, y, 'o', color='tab:red')\n",
    "plt.plot(x, a, 'o', color='tab:blue')\n",
    "plt.plot(x, b, 'o', color='tab:green')\n",
    "plt.plot(x, c, 'o', color='tab:brown')\n",
    "plt.plot(x,y)\n",
    "plt.plot(x,a)\n",
    "plt.plot(x,b)\n",
    "plt.plot(x,c)\n",
    "plt.show"
   ]
  },
  {
   "cell_type": "code",
   "execution_count": 13,
   "metadata": {},
   "outputs": [],
   "source": [
    "#I gave up curve fitting for now since I could not find a satisfactory solution how to implement that. \n",
    "#hope to pick it up again once I trasnlated the whole script."
   ]
  },
  {
   "cell_type": "code",
   "execution_count": 14,
   "metadata": {},
   "outputs": [
    {
     "data": {
      "text/plain": [
       "<function matplotlib.pyplot.show(*args, **kw)>"
      ]
     },
     "execution_count": 14,
     "metadata": {},
     "output_type": "execute_result"
    },
    {
     "data": {
      "image/png": "[encoded data removed]",
      "text/plain": [
       "<Figure size 432x288 with 1 Axes>"
      ]
     },
     "metadata": {
      "needs_background": "light"
     },
     "output_type": "display_data"
    }
   ],
   "source": [
    "#In this part I automate the selection of the linear part of the curve when looked at in logarithmic scale\n",
    "#The first step is to select all points from and including the last point that is 100%\n",
    "#For this I create two new data frames per strain\n",
    "WB_a  = MTZ_1[\"WB\"]   \n",
    "Conc_WB = MTZ_1[\"Conc\"]\n",
    "#I filter for all that are smaller than 99%\n",
    "WB_aH = WB_a <99\n",
    "#and ask for the length of that element\n",
    "WB_aH = WB_a[WB_aH]\n",
    "len(WB_aH)\n",
    "\n",
    "#In the last step I give the total length minus the length of that element plus the data point exactly before to catch\n",
    "#the last point of 100%\n",
    "#I than use the same approach plus 3 to make sure I get the last point of 100% plus three more.\n",
    "WB_x = Conc_WB[(7-(len(WB_aH)+1)):(7-len(WB_aH)+3)]\n",
    "WB_y = WB_a[(7-(len(WB_aH)+1)):(7-len(WB_aH)+3)]\n",
    "\n",
    "#fig, ax = plt.subplots()\n",
    "#ax.set_yscale('log')\n",
    "plt.plot(WB_x,WB_y)\n",
    "plt.show"
   ]
  },
  {
   "cell_type": "code",
   "execution_count": 15,
   "metadata": {},
   "outputs": [
    {
     "data": {
      "text/plain": [
       "5.3266"
      ]
     },
     "execution_count": 15,
     "metadata": {},
     "output_type": "execute_result"
    }
   ],
   "source": [
    "#Now I can use the created lists to fit them to an equation\n",
    "fWB = np.polyfit(WB_x, np.log(WB_y), 1)\n",
    "#Solve the equation\n",
    "sWB = (np.log(50)-fWB[1])/fWB[0]\n",
    "sWB = round(sWB, 5)\n",
    "sWB #Fixed it by some pen and paper work with the equation.lel"
   ]
  },
  {
   "cell_type": "code",
   "execution_count": 16,
   "metadata": {},
   "outputs": [
    {
     "data": {
      "text/plain": [
       "<function matplotlib.pyplot.show(*args, **kw)>"
      ]
     },
     "execution_count": 16,
     "metadata": {},
     "output_type": "execute_result"
    },
    {
     "data": {
      "image/png": "[encoded data removed]",
      "text/plain": [
       "<Figure size 432x288 with 1 Axes>"
      ]
     },
     "metadata": {
      "needs_background": "light"
     },
     "output_type": "display_data"
    }
   ],
   "source": [
    "#Strain 2\n",
    "C6NR_a  = MTZ_1[\"C6NR\"]   \n",
    "Conc_C6NR = MTZ_1[\"Conc\"]\n",
    "#I filter for all that are smaller than 99%\n",
    "C6NR_aH = C6NR_a <97   #This is adjust since there is a 98% element.\n",
    "\n",
    "C6NR_aH = C6NR_a[C6NR_aH]\n",
    "len(C6NR_aH)\n",
    "\n",
    "C6NR_x = Conc_C6NR[(7-(len(C6NR_aH)+1)):(7-len(C6NR_aH)+3)]\n",
    "C6NR_y = C6NR_a[(7-(len(C6NR_aH)+1)):(7-len(C6NR_aH)+3)]\n",
    "\n",
    "fig, ax = plt.subplots()\n",
    "ax.set_yscale('log')\n",
    "plt.plot(C6NR_x,C6NR_y)\n",
    "plt.show"
   ]
  },
  {
   "cell_type": "code",
   "execution_count": 17,
   "metadata": {},
   "outputs": [
    {
     "data": {
      "text/plain": [
       "5.34817"
      ]
     },
     "execution_count": 17,
     "metadata": {},
     "output_type": "execute_result"
    }
   ],
   "source": [
    "#Now I can use the created lists to fit them to an equation\n",
    "fC6NR = np.polyfit(C6NR_x, np.log(C6NR_y), 1)\n",
    "#Solve the equation\n",
    "sC6NR = (np.log(50)-fC6NR[1])/fC6NR[0]\n",
    "sC6NR = round(sC6NR, 5)\n",
    "sC6NR"
   ]
  },
  {
   "cell_type": "code",
   "execution_count": 18,
   "metadata": {},
   "outputs": [
    {
     "data": {
      "text/plain": [
       "<function matplotlib.pyplot.show(*args, **kw)>"
      ]
     },
     "execution_count": 18,
     "metadata": {},
     "output_type": "execute_result"
    },
    {
     "data": {
      "image/png": "[encoded data removed]",
      "text/plain": [
       "<Figure size 432x288 with 1 Axes>"
      ]
     },
     "metadata": {
      "needs_background": "light"
     },
     "output_type": "display_data"
    }
   ],
   "source": [
    "#Strain 3\n",
    "C605_a  = MTZ_1[\"C605\"]   \n",
    "Conc_C605 = MTZ_1[\"Conc\"]\n",
    "#I filter for all that are smaller than 99%\n",
    "C605_aH = C605_a <90   #This is adjust since there is a 91% element in the middle.\n",
    "\n",
    "C605_aH = C605_a[C605_aH]\n",
    "len(C605_aH)\n",
    "\n",
    "\n",
    "C605_x = Conc_C605[(7-(len(C605_aH)+1)):(7-len(C605_aH)+3)]\n",
    "C605_y = C605_a[(7-(len(C605_aH)+1)):(7-len(C605_aH)+3)]\n",
    "\n",
    "fig, ax = plt.subplots()\n",
    "ax.set_yscale('log')\n",
    "plt.plot(C605_x,C605_y)\n",
    "plt.show"
   ]
  },
  {
   "cell_type": "code",
   "execution_count": 19,
   "metadata": {},
   "outputs": [
    {
     "data": {
      "text/plain": [
       "28.63101"
      ]
     },
     "execution_count": 19,
     "metadata": {},
     "output_type": "execute_result"
    }
   ],
   "source": [
    "#Now I can use the created lists to fit them to an equation\n",
    "fC605 = np.polyfit(C605_x, np.log(C605_y), 1)\n",
    "#Solve the equation\n",
    "sC605 = (np.log(50)-fC605[1])/fC605[0]\n",
    "sC605 = round(sC605, 5)\n",
    "sC605 "
   ]
  },
  {
   "cell_type": "code",
   "execution_count": 20,
   "metadata": {},
   "outputs": [
    {
     "data": {
      "text/plain": [
       "<function matplotlib.pyplot.show(*args, **kw)>"
      ]
     },
     "execution_count": 20,
     "metadata": {},
     "output_type": "execute_result"
    },
    {
     "data": {
      "image/png": "[encoded data removed]",
      "text/plain": [
       "<Figure size 432x288 with 1 Axes>"
      ]
     },
     "metadata": {
      "needs_background": "light"
     },
     "output_type": "display_data"
    }
   ],
   "source": [
    "#Strain 4\n",
    "C6aI_a  = MTZ_1[\"C6aI\"]   \n",
    "Conc_C6aI = MTZ_1[\"Conc\"]\n",
    "#I filter for all that are smaller than 99%\n",
    "C6aI_aH = C6aI_a <99\n",
    "#and ask for the length of that element\n",
    "C6aI_aH = C6aI_a[C6aI_aH]\n",
    "len(C6aI_aH)\n",
    "\n",
    "#In the last step I give the total length minus the length of that element plus the data point exactly before to catch\n",
    "#the last point of 100%\n",
    "#I than use the same approach plus 3 to make sure I get the last point of 100% plus three more.\n",
    "C6aI_x = Conc_C6aI[(7-(len(C6aI_aH)+1)):(7-len(C6aI_aH)+3)]\n",
    "C6aI_y = C6aI_a[(7-(len(C6aI_aH)+1)):(7-len(C6aI_aH)+3)]\n",
    "\n",
    "fig, ax = plt.subplots()\n",
    "ax.set_yscale('log')\n",
    "plt.plot(C6aI_x,C6aI_y)\n",
    "plt.show"
   ]
  },
  {
   "cell_type": "code",
   "execution_count": 21,
   "metadata": {},
   "outputs": [
    {
     "data": {
      "text/plain": [
       "15.54086"
      ]
     },
     "execution_count": 21,
     "metadata": {},
     "output_type": "execute_result"
    }
   ],
   "source": [
    "#Now I can use the created lists to fit them to an equation\n",
    "fC6aI = np.polyfit(C6aI_x, np.log(C6aI_y), 1)\n",
    "#Solve the equation\n",
    "sC6aI = (np.log(50)-fC6aI[1])/fC6aI[0]\n",
    "sC6aI = round(sC6aI, 5)\n",
    "sC6aI"
   ]
  },
  {
   "cell_type": "code",
   "execution_count": 22,
   "metadata": {},
   "outputs": [],
   "source": [
    "#Now I can just collect the IC50s and write them out into a csv or picture. This will be my last step for this project\n",
    "#for now. \n",
    "#I will however use the same approach on data from several days to establish get statsitics into this. Next step than: \n",
    "#Adjust graphs and caclulation for that.\n",
    "df1 = pd.DataFrame([sWB, sC6NR, sC605, sC6aI])\n",
    "df1 = df1.T\n",
    "df1.columns = ['WB', 'C6NR', 'C605', 'C6aI']\n",
    "df1.index = ['MTZ']\n",
    "df1.index.names = ['Drug']\n",
    "df1.columns.names = ['Strain']\n",
    "\n",
    "#Define here the name of today just to make it more clear for the reader\n",
    "IC50MTZ_12_9_19_1 = df1\n",
    "\n",
    "#Write it to a csv\n",
    "IC50MTZ_12_9_19_1.to_csv('IC50MTZ_12_9_19_1.csv')\n",
    "\n",
    "#And to a html(more handy for bigger tables or images)\n",
    "IC50MTZ_12_9_19_1.to_html('IC50MTZ_12_9_19_1.html')"
   ]
  },
  {
   "cell_type": "code",
   "execution_count": 23,
   "metadata": {},
   "outputs": [
    {
     "name": "stdout",
     "output_type": "stream",
     "text": [
      "| Drug   |     WB |    C6NR |   C605 |    C6aI |\n",
      "|:-------|-------:|--------:|-------:|--------:|\n",
      "| MTZ    | 5.3266 | 5.34817 | 28.631 | 15.5409 |\n"
     ]
    }
   ],
   "source": [
    "#Here a way to bring it into markdown friendly format, this can than be used in a markdown cell.\n",
    "print(IC50MTZ_12_9_19_1.to_markdown())"
   ]
  },
  {
   "cell_type": "markdown",
   "metadata": {},
   "source": [
    "Like in this markdown cell:\n",
    "\n",
    "| Drug   |     WB |    C6NR |   C605 |    C6aI |\n",
    "|:-------|-------:|--------:|-------:|--------:|\n",
    "| MTZ    | 5.3266 | 5.34817 | 28.631 | 15.5409 |"
   ]
  },
  {
   "cell_type": "code",
   "execution_count": 26,
   "metadata": {},
   "outputs": [
    {
     "data": {
      "image/png": "[encoded data removed]",
      "text/plain": [
       "<Figure size 864x288 with 1 Axes>"
      ]
     },
     "metadata": {
      "needs_background": "light"
     },
     "output_type": "display_data"
    }
   ],
   "source": [
    "#This works to make it into a pdf, e.g. for publishing. Just have to fine-tune it a bit.\n",
    "#Good starting point though.\n",
    "from matplotlib.backends.backend_pdf import PdfPages\n",
    "\n",
    "\n",
    "#https://stackoverflow.com/questions/32137396/how-do-i-plot-only-a-table-in-matplotlib\n",
    "fig, ax =plt.subplots(figsize=(12,4))\n",
    "ax.axis('tight')\n",
    "ax.axis('off')\n",
    "the_table = ax.table(cellText = df1.values, colLabels = df1.columns, loc = 'center')\n",
    "\n",
    "#https://stackoverflow.com/questions/4042192/reduce-left-and-right-margins-in-matplotlib-plot\n",
    "pp = PdfPages(\"foo.pdf\")\n",
    "pp.savefig(fig, bbox_inches='tight')\n",
    "pp.close()"
   ]
  },
  {
   "cell_type": "code",
   "execution_count": 25,
   "metadata": {},
   "outputs": [],
   "source": [
    "\n",
    "\n",
    "#fig, ax = plt.subplots()\n",
    "#ax.plot(x, y_est, '-')\n",
    "#ax.fill_between(x, y_est - y_err, y_est + y_err, alpha=0.2)\n",
    "#ax.plot(x, y, 'o', color='tab:brown')"
   ]
  }
 ],
 "metadata": {
  "kernelspec": {
   "display_name": "Python 3",
   "language": "python",
   "name": "python3"
  },
  "language_info": {
   "codemirror_mode": {
    "name": "ipython",
    "version": 3
   },
   "file_extension": ".py",
   "mimetype": "text/x-python",
   "name": "python",
   "nbconvert_exporter": "python",
   "pygments_lexer": "ipython3",
   "version": "3.7.7"
  }
 },
 "nbformat": 4,
 "nbformat_minor": 4
}
