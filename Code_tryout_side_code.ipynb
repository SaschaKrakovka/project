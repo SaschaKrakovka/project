{
 "cells": [
  {
   "cell_type": "markdown",
   "metadata": {},
   "source": [
    "# Script to try out things and prepare strings needed for the package\n",
    "\n",
    "The code in here will mostly be for myself but is also used to document my progress\n",
    "\n"
   ]
  },
  {
   "cell_type": "code",
   "execution_count": 57,
   "metadata": {},
   "outputs": [
    {
     "name": "stdout",
     "output_type": "stream",
     "text": [
      "A12,B12,C12,D12,E12,F12,G12,H12\n"
     ]
    }
   ],
   "source": [
    "#Preparing of the module\n",
    "\n",
    "#Selecting the letters that represent the rows and preparing them for later use:\n",
    "#This avoids typing all combinations.\n",
    "import string\n",
    "Columns = list(string.ascii_uppercase[0:8])\n",
    "Cells = [s + \"12\" for s in Columns]\n",
    "print(*Cells, sep =',' )"
   ]
  },
  {
   "cell_type": "code",
   "execution_count": 4,
   "metadata": {},
   "outputs": [
    {
     "ename": "NameError",
     "evalue": "name 'Data' is not defined",
     "output_type": "error",
     "traceback": [
      "\u001b[0;31m---------------------------------------------------------------------------\u001b[0m",
      "\u001b[0;31mNameError\u001b[0m                                 Traceback (most recent call last)",
      "\u001b[0;32m<ipython-input-4-af4d0862c821>\u001b[0m in \u001b[0;36m<module>\u001b[0;34m\u001b[0m\n\u001b[1;32m      6\u001b[0m \u001b[0;34m\u001b[0m\u001b[0m\n\u001b[1;32m      7\u001b[0m \u001b[0;31m#Here I chose to implement one row at a time to make it more readable\u001b[0m\u001b[0;34m\u001b[0m\u001b[0;34m\u001b[0m\u001b[0;34m\u001b[0m\u001b[0m\n\u001b[0;32m----> 8\u001b[0;31m \u001b[0mA1\u001b[0m\u001b[0;34m,\u001b[0m\u001b[0mB1\u001b[0m\u001b[0;34m,\u001b[0m\u001b[0mC1\u001b[0m\u001b[0;34m,\u001b[0m\u001b[0mD1\u001b[0m\u001b[0;34m,\u001b[0m\u001b[0mE1\u001b[0m\u001b[0;34m,\u001b[0m\u001b[0mF1\u001b[0m\u001b[0;34m,\u001b[0m\u001b[0mG1\u001b[0m\u001b[0;34m,\u001b[0m\u001b[0mH1\u001b[0m \u001b[0;34m=\u001b[0m \u001b[0mData\u001b[0m\u001b[0;34m[\u001b[0m\u001b[0;36m0\u001b[0m\u001b[0;34m:\u001b[0m\u001b[0;36m9\u001b[0m\u001b[0;34m,\u001b[0m\u001b[0;36m0\u001b[0m\u001b[0;34m]\u001b[0m\u001b[0;34m\u001b[0m\u001b[0;34m\u001b[0m\u001b[0m\n\u001b[0m\u001b[1;32m      9\u001b[0m \u001b[0mA2\u001b[0m\u001b[0;34m,\u001b[0m\u001b[0mB2\u001b[0m\u001b[0;34m,\u001b[0m\u001b[0mC2\u001b[0m\u001b[0;34m,\u001b[0m\u001b[0mD2\u001b[0m\u001b[0;34m,\u001b[0m\u001b[0mE2\u001b[0m\u001b[0;34m,\u001b[0m\u001b[0mF2\u001b[0m\u001b[0;34m,\u001b[0m\u001b[0mG2\u001b[0m\u001b[0;34m,\u001b[0m\u001b[0mH2\u001b[0m \u001b[0;34m=\u001b[0m \u001b[0mData\u001b[0m\u001b[0;34m[\u001b[0m\u001b[0;36m0\u001b[0m\u001b[0;34m:\u001b[0m\u001b[0;36m9\u001b[0m\u001b[0;34m,\u001b[0m\u001b[0;36m1\u001b[0m\u001b[0;34m]\u001b[0m\u001b[0;34m\u001b[0m\u001b[0;34m\u001b[0m\u001b[0m\n\u001b[1;32m     10\u001b[0m \u001b[0mA3\u001b[0m\u001b[0;34m,\u001b[0m\u001b[0mB3\u001b[0m\u001b[0;34m,\u001b[0m\u001b[0mC3\u001b[0m\u001b[0;34m,\u001b[0m\u001b[0mD3\u001b[0m\u001b[0;34m,\u001b[0m\u001b[0mE3\u001b[0m\u001b[0;34m,\u001b[0m\u001b[0mF3\u001b[0m\u001b[0;34m,\u001b[0m\u001b[0mG3\u001b[0m\u001b[0;34m,\u001b[0m\u001b[0mH3\u001b[0m \u001b[0;34m=\u001b[0m \u001b[0mData\u001b[0m\u001b[0;34m[\u001b[0m\u001b[0;36m0\u001b[0m\u001b[0;34m:\u001b[0m\u001b[0;36m9\u001b[0m\u001b[0;34m,\u001b[0m\u001b[0;36m2\u001b[0m\u001b[0;34m]\u001b[0m\u001b[0;34m\u001b[0m\u001b[0;34m\u001b[0m\u001b[0m\n",
      "\u001b[0;31mNameError\u001b[0m: name 'Data' is not defined"
     ]
    }
   ],
   "source": [
    "# In this part a 96 well plate is assigned to the common denominers\n",
    "#This will ease naming further down the line.\n",
    "import numpy as np\n",
    "#I chose this array to ease assignment \n",
    "#Data = np.arange(1,97).reshape(8,12)\n",
    "\n",
    "#Here I chose to implement one row at a time to make it more readable\n",
    "A1,B1,C1,D1,E1,F1,G1,H1 = Data.iloc[1:9,1]\n",
    "A2,B2,C2,D2,E2,F2,G2,H2 = Data.iloc[1:9,2]\n",
    "A3,B3,C3,D3,E3,F3,G3,H3 = Data.iloc[1:9,3]\n",
    "A4,B4,C4,D4,E4,F4,G4,H4 = Data.iloc[1:9,4]\n",
    "A5,B5,C5,D5,E5,F5,G5,H5 = Data.iloc[1:9,5]\n",
    "A6,B6,C6,D6,E6,F6,G6,H6 = Data.iloc[1:9,6]\n",
    "A7,B7,C7,D7,E7,F7,G7,H7 = Data.iloc[1:9,7]\n",
    "A8,B8,C8,D8,E8,F8,G8,H8 = Data.iloc[1:9,8]\n",
    "A9,B9,C9,D9,E9,F9,G9,H9 = Data.iloc[1:9,9]\n",
    "A10,B10,C10,D10,E10,F10,G10,H10 = Data.iloc[1:9,10]\n",
    "A11,B11,C11,D11,E11,F11,G11,H11 = Data.iloc[1:9,11]\n",
    "A12,B12,C12,D12,E12,F12,G12,H12 = Data.iloc[1:9,12]\n"
   ]
  },
  {
   "cell_type": "code",
   "execution_count": 5,
   "metadata": {},
   "outputs": [],
   "source": [
    "A1 = 0"
   ]
  },
  {
   "cell_type": "code",
   "execution_count": 6,
   "metadata": {},
   "outputs": [
    {
     "data": {
      "text/plain": [
       "(1, 13)"
      ]
     },
     "execution_count": 6,
     "metadata": {},
     "output_type": "execute_result"
    }
   ],
   "source": [
    "import numpy as np\n",
    "import pandas as pd\n",
    "import Plate_setup2\n",
    "Data = pd.DataFrame(np.arange(1,97).reshape(8,12))\n",
    "createFrame(Data)\n",
    "#\n"
   ]
  },
  {
   "cell_type": "code",
   "execution_count": 2,
   "metadata": {},
   "outputs": [
    {
     "ename": "NameError",
     "evalue": "name 'Data' is not defined",
     "output_type": "error",
     "traceback": [
      "\u001b[0;31m---------------------------------------------------------------------------\u001b[0m",
      "\u001b[0;31mNameError\u001b[0m                                 Traceback (most recent call last)",
      "\u001b[0;32m<ipython-input-2-daf0c2421aa7>\u001b[0m in \u001b[0;36m<module>\u001b[0;34m\u001b[0m\n\u001b[0;32m----> 1\u001b[0;31m \u001b[0mData\u001b[0m\u001b[0;34m\u001b[0m\u001b[0;34m\u001b[0m\u001b[0m\n\u001b[0m",
      "\u001b[0;31mNameError\u001b[0m: name 'Data' is not defined"
     ]
    }
   ],
   "source": [
    "Data"
   ]
  },
  {
   "cell_type": "code",
   "execution_count": 5,
   "metadata": {},
   "outputs": [
    {
     "ename": "NameError",
     "evalue": "name 'A1' is not defined",
     "output_type": "error",
     "traceback": [
      "\u001b[0;31m---------------------------------------------------------------------------\u001b[0m",
      "\u001b[0;31mNameError\u001b[0m                                 Traceback (most recent call last)",
      "\u001b[0;32m<ipython-input-5-4a5b95edbea7>\u001b[0m in \u001b[0;36m<module>\u001b[0;34m\u001b[0m\n\u001b[0;32m----> 1\u001b[0;31m \u001b[0mA1\u001b[0m\u001b[0;34m\u001b[0m\u001b[0;34m\u001b[0m\u001b[0m\n\u001b[0m",
      "\u001b[0;31mNameError\u001b[0m: name 'A1' is not defined"
     ]
    }
   ],
   "source": [
    "A1"
   ]
  },
  {
   "cell_type": "code",
   "execution_count": null,
   "metadata": {},
   "outputs": [],
   "source": []
  }
 ],
 "metadata": {
  "kernelspec": {
   "display_name": "Python 3",
   "language": "python",
   "name": "python3"
  },
  "language_info": {
   "codemirror_mode": {
    "name": "ipython",
    "version": 3
   },
   "file_extension": ".py",
   "mimetype": "text/x-python",
   "name": "python",
   "nbconvert_exporter": "python",
   "pygments_lexer": "ipython3",
   "version": "3.7.7"
  }
 },
 "nbformat": 4,
 "nbformat_minor": 4
}
